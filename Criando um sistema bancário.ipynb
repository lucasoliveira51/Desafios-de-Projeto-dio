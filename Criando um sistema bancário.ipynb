{
 "cells": [
  {
   "cell_type": "markdown",
   "id": "a04d5170",
   "metadata": {},
   "source": [
    "# Desafio de projeto"
   ]
  },
  {
   "attachments": {},
   "cell_type": "markdown",
   "id": "2609a709",
   "metadata": {},
   "source": [
    "## Descrição \n",
    "\n",
    "### Criar um sistema bancário com as operações: sacar, depositar e visualizar extrato."
   ]
  },
  {
   "cell_type": "code",
   "execution_count": null,
   "id": "96177883",
   "metadata": {},
   "outputs": [
    {
     "name": "stdout",
     "output_type": "stream",
     "text": [
      "\n",
      "--------------\n",
      "[1] Depositar |\n",
      "[2] Sacar     | \n",
      "[3] Extrato   |\n",
      "[4] Sair      |\n",
      "--------------\n",
      "1\n",
      "Insira o valor a ser depositado: 50\n",
      "\n",
      "--------------\n",
      "[1] Depositar |\n",
      "[2] Sacar     | \n",
      "[3] Extrato   |\n",
      "[4] Sair      |\n",
      "--------------\n",
      "2\n",
      "Insira o valor a ser sacado: 25\n",
      "\n",
      "--------------\n",
      "[1] Depositar |\n",
      "[2] Sacar     | \n",
      "[3] Extrato   |\n",
      "[4] Sair      |\n",
      "--------------\n",
      "3\n",
      "\n",
      " --- Extrato ---\n",
      "Depósito: R$50.00\n",
      "Saque: R$25.00\n",
      "\n",
      "\n",
      " Saldo: R$25.00\n",
      "---------------------\n"
     ]
    }
   ],
   "source": [
    "menu = \"\"\"\n",
    "--------------\n",
    "[1] Depositar |\n",
    "[2] Sacar     | \n",
    "[3] Extrato   |\n",
    "[4] Sair      |\n",
    "--------------\n",
    "\"\"\"\n",
    "saldo = 0\n",
    "limite = 500\n",
    "extrato = \"\"\n",
    "numero_saques = 0\n",
    "LIMITE_SAQUES = 5\n",
    "\n",
    "while True:\n",
    "    opcao = input(menu)\n",
    "\n",
    "    if opcao == \"1\":\n",
    "        valor = float(input('Insira o valor a ser depositado: '))\n",
    "\n",
    "        if valor > 0:\n",
    "            saldo += valor\n",
    "            extrato += f\"Depósito: R${valor:.2f}\\n\"\n",
    "        else:\n",
    "            print('Operação negada, valor informado está incorreto. Por favor, digite valores válidos.')\n",
    "\n",
    "    elif opcao == \"2\":\n",
    "        valor = float(input('Insira o valor a ser sacado: '))\n",
    "        excedeu_saldo = valor > saldo\n",
    "        excedeu_limite = valor > limite\n",
    "        excedeu_saques = numero_saques >= LIMITE_SAQUES\n",
    "\n",
    "        if excedeu_saldo:\n",
    "            print('Operação falhou, você não tem saldo suficiente.')\n",
    "\n",
    "        elif excedeu_limite:\n",
    "            print(\"Operação falhou, o valor do saque excede o limite.\")\n",
    "\n",
    "        elif excedeu_saques:\n",
    "            print('Operação falhou,número máximo de saques excedido.')\n",
    "\n",
    "        elif valor > 0:\n",
    "            saldo -= valor\n",
    "            extrato += f'Saque: R${valor:.2f}\\n'\n",
    "            numero_saques += 1\n",
    "        else:\n",
    "            print('Operação falhou, pois foi inserido um valor inválido.')\n",
    "\n",
    "    elif opcao == \"3\":\n",
    "        print('\\n --- Extrato ---')\n",
    "        print('Não foram realizadas movimentações.' if not extrato else extrato)\n",
    "        print(f'\\n Saldo: R${saldo:.2f}')\n",
    "        print('---------------------')\n",
    "\n",
    "    elif opcao == \"4\":\n",
    "        break\n",
    "\n",
    "    else:\n",
    "        print('Operação inválida, Selecione outra operação.')"
   ]
  }
 ],
 "metadata": {
  "kernelspec": {
   "display_name": "Python 3 (ipykernel)",
   "language": "python",
   "name": "python3"
  },
  "language_info": {
   "codemirror_mode": {
    "name": "ipython",
    "version": 3
   },
   "file_extension": ".py",
   "mimetype": "text/x-python",
   "name": "python",
   "nbconvert_exporter": "python",
   "pygments_lexer": "ipython3",
   "version": "3.9.13"
  },
  "nbTranslate": {
   "displayLangs": [
    "*"
   ],
   "hotkey": "alt-t",
   "langInMainMenu": true,
   "sourceLang": "en",
   "targetLang": "fr",
   "useGoogleTranslate": true
  },
  "varInspector": {
   "cols": {
    "lenName": 16,
    "lenType": 16,
    "lenVar": 40
   },
   "kernels_config": {
    "python": {
     "delete_cmd_postfix": "",
     "delete_cmd_prefix": "del ",
     "library": "var_list.py",
     "varRefreshCmd": "print(var_dic_list())"
    },
    "r": {
     "delete_cmd_postfix": ") ",
     "delete_cmd_prefix": "rm(",
     "library": "var_list.r",
     "varRefreshCmd": "cat(var_dic_list()) "
    }
   },
   "types_to_exclude": [
    "module",
    "function",
    "builtin_function_or_method",
    "instance",
    "_Feature"
   ],
   "window_display": false
  }
 },
 "nbformat": 4,
 "nbformat_minor": 5
}
